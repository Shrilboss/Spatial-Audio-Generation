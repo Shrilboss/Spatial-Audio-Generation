{
 "cells": [
  {
   "cell_type": "code",
   "execution_count": 1,
   "metadata": {},
   "outputs": [],
   "source": [
    "# import laion_clap\n",
    "# from torchsummary import summary\n",
    "import pandas as pd\n",
    "# import swifter\n",
    "import dask.dataframe as dd\n",
    "from dask.multiprocessing import get"
   ]
  },
  {
   "cell_type": "code",
   "execution_count": 24,
   "metadata": {},
   "outputs": [
    {
     "data": {
      "text/plain": [
       "dict_keys(['epoch', 'name', 'state_dict', 'optimizer'])"
      ]
     },
     "execution_count": 24,
     "metadata": {},
     "output_type": "execute_result"
    }
   ],
   "source": [
    "import torch\n",
    "check = torch.load('630k-audioset-best.pt')\n",
    "check.keys()"
   ]
  },
  {
   "cell_type": "code",
   "execution_count": 2,
   "metadata": {},
   "outputs": [],
   "source": [
    "import subprocess\n",
    "import os\n",
    "from pathlib import Path\n",
    "\n",
    "def download_clip(\n",
    "    video_identifier,\n",
    "    output_filename,\n",
    "    start_time,\n",
    "    num_attempts=1,\n",
    "    url_base='https://www.youtube.com/watch?v='\n",
    "):\n",
    "    status = False\n",
    "\n",
    "    command = f\"\"\"yt-dlp -x --audio-format wav -f bestaudio -o \"{output_filename}\" --download-sections \"*{start_time}-{start_time+10}\" --force-keyframes-at-cuts --ffmpeg-location \"C:\\\\Users\\\\3924s\\\\OneDrive\\\\Desktop\\\\Spring 2023\\\\ECE 285 Deep gen\\\\Project\\\\ffmpeg-master-latest-win64-gpl\\\\ffmpeg-master-latest-win64-gpl\\\\bin\" {url_base}{video_identifier}\"\"\".strip()\n",
    "    use_command = command\n",
    "\n",
    "    attempts = 0\n",
    "    while True:\n",
    "        try:\n",
    "            output = subprocess.check_output(use_command, shell=True,\n",
    "                                                stderr=subprocess.STDOUT)\n",
    "        except subprocess.CalledProcessError as err:\n",
    "            attempts += 1\n",
    "            print(\"Failed\", output_filename)\n",
    "            if attempts == num_attempts:\n",
    "                return status, err.output\n",
    "        else:\n",
    "            break\n",
    "\n",
    "    # Check if the video was successfully saved.\n",
    "    status = os.path.exists(output_filename)\n",
    "    return status, 'Downloaded'\n",
    "\n",
    "def process(example):\n",
    "    outfile_path = str(data_dir / f\"{example['audiocap_id']}.wav\")\n",
    "    status = True\n",
    "    if not os.path.exists(outfile_path):\n",
    "        status = False\n",
    "        status, log = download_clip(\n",
    "            example['youtube_id'],\n",
    "            outfile_path,\n",
    "            example['start_time'],\n",
    "        )\n",
    "    example['caption'] = example['caption'].replace('\\n', ' ')\n",
    "    example['audio'] = outfile_path\n",
    "    example['download_status'] = status\n",
    "    return example\n"
   ]
  },
  {
   "cell_type": "code",
   "execution_count": 3,
   "metadata": {},
   "outputs": [
    {
     "data": {
      "text/html": [
       "<div>\n",
       "<style scoped>\n",
       "    .dataframe tbody tr th:only-of-type {\n",
       "        vertical-align: middle;\n",
       "    }\n",
       "\n",
       "    .dataframe tbody tr th {\n",
       "        vertical-align: top;\n",
       "    }\n",
       "\n",
       "    .dataframe thead th {\n",
       "        text-align: right;\n",
       "    }\n",
       "</style>\n",
       "<table border=\"1\" class=\"dataframe\">\n",
       "  <thead>\n",
       "    <tr style=\"text-align: right;\">\n",
       "      <th></th>\n",
       "      <th>audiocap_id</th>\n",
       "      <th>youtube_id</th>\n",
       "      <th>start_time</th>\n",
       "      <th>caption</th>\n",
       "    </tr>\n",
       "  </thead>\n",
       "  <tbody>\n",
       "    <tr>\n",
       "      <th>0</th>\n",
       "      <td>270</td>\n",
       "      <td>-5weqk40jaI</td>\n",
       "      <td>17</td>\n",
       "      <td>Strong wind against the microphone simultaneou...</td>\n",
       "    </tr>\n",
       "    <tr>\n",
       "      <th>1</th>\n",
       "      <td>19398</td>\n",
       "      <td>77fnehVF7wE</td>\n",
       "      <td>1</td>\n",
       "      <td>A dog barks twice and then whimpers</td>\n",
       "    </tr>\n",
       "    <tr>\n",
       "      <th>2</th>\n",
       "      <td>91139</td>\n",
       "      <td>r1nicOVtvkQ</td>\n",
       "      <td>130</td>\n",
       "      <td>A woman talks nearby as water pours</td>\n",
       "    </tr>\n",
       "    <tr>\n",
       "      <th>3</th>\n",
       "      <td>58146</td>\n",
       "      <td>UDGBjjwyaqE</td>\n",
       "      <td>20</td>\n",
       "      <td>Multiple clanging and clanking sounds</td>\n",
       "    </tr>\n",
       "    <tr>\n",
       "      <th>4</th>\n",
       "      <td>11542</td>\n",
       "      <td>3eJ9RynJzP8</td>\n",
       "      <td>80</td>\n",
       "      <td>The wind is blowing, insects are singing, and ...</td>\n",
       "    </tr>\n",
       "  </tbody>\n",
       "</table>\n",
       "</div>"
      ],
      "text/plain": [
       "   audiocap_id   youtube_id  start_time  \\\n",
       "0          270  -5weqk40jaI          17   \n",
       "1        19398  77fnehVF7wE           1   \n",
       "2        91139  r1nicOVtvkQ         130   \n",
       "3        58146  UDGBjjwyaqE          20   \n",
       "4        11542  3eJ9RynJzP8          80   \n",
       "\n",
       "                                             caption  \n",
       "0  Strong wind against the microphone simultaneou...  \n",
       "1                A dog barks twice and then whimpers  \n",
       "2                A woman talks nearby as water pours  \n",
       "3              Multiple clanging and clanking sounds  \n",
       "4  The wind is blowing, insects are singing, and ...  "
      ]
     },
     "execution_count": 3,
     "metadata": {},
     "output_type": "execute_result"
    }
   ],
   "source": [
    "data = pd.read_csv(r'dataset\\train_remaining.csv')\n",
    "data.head()"
   ]
  },
  {
   "cell_type": "code",
   "execution_count": 4,
   "metadata": {},
   "outputs": [],
   "source": [
    "exist_data = data[20000:]"
   ]
  },
  {
   "cell_type": "code",
   "execution_count": 5,
   "metadata": {},
   "outputs": [
    {
     "name": "stdout",
     "output_type": "stream",
     "text": [
      "22320\n"
     ]
    },
    {
     "data": {
      "text/html": [
       "<div>\n",
       "<style scoped>\n",
       "    .dataframe tbody tr th:only-of-type {\n",
       "        vertical-align: middle;\n",
       "    }\n",
       "\n",
       "    .dataframe tbody tr th {\n",
       "        vertical-align: top;\n",
       "    }\n",
       "\n",
       "    .dataframe thead th {\n",
       "        text-align: right;\n",
       "    }\n",
       "</style>\n",
       "<table border=\"1\" class=\"dataframe\">\n",
       "  <thead>\n",
       "    <tr style=\"text-align: right;\">\n",
       "      <th></th>\n",
       "      <th>audiocap_id</th>\n",
       "      <th>youtube_id</th>\n",
       "      <th>start_time</th>\n",
       "      <th>caption</th>\n",
       "    </tr>\n",
       "  </thead>\n",
       "  <tbody>\n",
       "    <tr>\n",
       "      <th>20000</th>\n",
       "      <td>28359</td>\n",
       "      <td>BWAqer2fVY0</td>\n",
       "      <td>30</td>\n",
       "      <td>A woman talks nearby at moderate volume</td>\n",
       "    </tr>\n",
       "    <tr>\n",
       "      <th>20001</th>\n",
       "      <td>11111</td>\n",
       "      <td>3ThQo3IhY-A</td>\n",
       "      <td>30</td>\n",
       "      <td>Motor vehicle engines are running, and people ...</td>\n",
       "    </tr>\n",
       "    <tr>\n",
       "      <th>20002</th>\n",
       "      <td>11110</td>\n",
       "      <td>3Te0zSY6KSE</td>\n",
       "      <td>220</td>\n",
       "      <td>A man mumbling while crumpling something</td>\n",
       "    </tr>\n",
       "    <tr>\n",
       "      <th>20003</th>\n",
       "      <td>11113</td>\n",
       "      <td>3Tlc949kOMM</td>\n",
       "      <td>10</td>\n",
       "      <td>A motorcycle is revved and people talk</td>\n",
       "    </tr>\n",
       "    <tr>\n",
       "      <th>20004</th>\n",
       "      <td>11112</td>\n",
       "      <td>3Tkefu0HHbA</td>\n",
       "      <td>30</td>\n",
       "      <td>A locomotive is passing by and blows its whistle</td>\n",
       "    </tr>\n",
       "  </tbody>\n",
       "</table>\n",
       "</div>"
      ],
      "text/plain": [
       "       audiocap_id   youtube_id  start_time  \\\n",
       "20000        28359  BWAqer2fVY0          30   \n",
       "20001        11111  3ThQo3IhY-A          30   \n",
       "20002        11110  3Te0zSY6KSE         220   \n",
       "20003        11113  3Tlc949kOMM          10   \n",
       "20004        11112  3Tkefu0HHbA          30   \n",
       "\n",
       "                                                 caption  \n",
       "20000            A woman talks nearby at moderate volume  \n",
       "20001  Motor vehicle engines are running, and people ...  \n",
       "20002           A man mumbling while crumpling something  \n",
       "20003             A motorcycle is revved and people talk  \n",
       "20004   A locomotive is passing by and blows its whistle  "
      ]
     },
     "execution_count": 5,
     "metadata": {},
     "output_type": "execute_result"
    }
   ],
   "source": [
    "print(len(exist_data))\n",
    "exist_data.head()"
   ]
  },
  {
   "cell_type": "code",
   "execution_count": 6,
   "metadata": {},
   "outputs": [
    {
     "name": "stdout",
     "output_type": "stream",
     "text": [
      "Failed audio_data_20000_end\\1.wav\n",
      "Failed audio_data_20000_end\\1.wav\n"
     ]
    }
   ],
   "source": [
    "data_dir = \"./audio_data_20000_end\" # Where to save the data\n",
    "\n",
    "# Just select some samples \n",
    "# small_data = data[:samples_to_load]\n",
    "# Create directory where data will be saved\n",
    "data_dir = Path(data_dir)\n",
    "data_dir.mkdir(exist_ok=True, parents=True)\n",
    "\n",
    "ddata = dd.from_pandas(exist_data, npartitions=30)\n",
    "\n",
    "music_data = ddata.map_partitions(lambda df: df.apply(process, axis=1)).compute(scheduler='processes')"
   ]
  },
  {
   "cell_type": "code",
   "execution_count": 17,
   "metadata": {},
   "outputs": [
    {
     "name": "stdout",
     "output_type": "stream",
     "text": [
      "(2475, 6)\n"
     ]
    },
    {
     "data": {
      "text/html": [
       "<div>\n",
       "<style scoped>\n",
       "    .dataframe tbody tr th:only-of-type {\n",
       "        vertical-align: middle;\n",
       "    }\n",
       "\n",
       "    .dataframe tbody tr th {\n",
       "        vertical-align: top;\n",
       "    }\n",
       "\n",
       "    .dataframe thead th {\n",
       "        text-align: right;\n",
       "    }\n",
       "</style>\n",
       "<table border=\"1\" class=\"dataframe\">\n",
       "  <thead>\n",
       "    <tr style=\"text-align: right;\">\n",
       "      <th></th>\n",
       "      <th>audiocap_id</th>\n",
       "      <th>youtube_id</th>\n",
       "      <th>start_time</th>\n",
       "      <th>caption</th>\n",
       "      <th>audio</th>\n",
       "      <th>download_status</th>\n",
       "    </tr>\n",
       "  </thead>\n",
       "  <tbody>\n",
       "    <tr>\n",
       "      <th>0</th>\n",
       "      <td>97151</td>\n",
       "      <td>vfY_TJq7n_U</td>\n",
       "      <td>130</td>\n",
       "      <td>Rustling occurs, ducks quack and water splashe...</td>\n",
       "      <td>music_data_val\\97151.wav</td>\n",
       "      <td>True</td>\n",
       "    </tr>\n",
       "    <tr>\n",
       "      <th>1</th>\n",
       "      <td>108945</td>\n",
       "      <td>tdWhHV3X25Q</td>\n",
       "      <td>60</td>\n",
       "      <td>An audience gives applause as a man yells and ...</td>\n",
       "      <td>music_data_val\\108945.wav</td>\n",
       "      <td>True</td>\n",
       "    </tr>\n",
       "    <tr>\n",
       "      <th>2</th>\n",
       "      <td>107898</td>\n",
       "      <td>tw76HGONaKg</td>\n",
       "      <td>570</td>\n",
       "      <td>A man speaks over intermittent keyboard taps</td>\n",
       "      <td>music_data_val\\107898.wav</td>\n",
       "      <td>True</td>\n",
       "    </tr>\n",
       "    <tr>\n",
       "      <th>3</th>\n",
       "      <td>107893</td>\n",
       "      <td>y2bVZ7rz-5M</td>\n",
       "      <td>280</td>\n",
       "      <td>Motor noise is followed by a horn honking and ...</td>\n",
       "      <td>music_data_val\\107893.wav</td>\n",
       "      <td>True</td>\n",
       "    </tr>\n",
       "    <tr>\n",
       "      <th>4</th>\n",
       "      <td>107892</td>\n",
       "      <td>ti66RjZWTp0</td>\n",
       "      <td>20</td>\n",
       "      <td>A male speaks as metal clicks and a gun fires ...</td>\n",
       "      <td>music_data_val\\107892.wav</td>\n",
       "      <td>False</td>\n",
       "    </tr>\n",
       "  </tbody>\n",
       "</table>\n",
       "</div>"
      ],
      "text/plain": [
       "   audiocap_id   youtube_id  start_time  \\\n",
       "0        97151  vfY_TJq7n_U         130   \n",
       "1       108945  tdWhHV3X25Q          60   \n",
       "2       107898  tw76HGONaKg         570   \n",
       "3       107893  y2bVZ7rz-5M         280   \n",
       "4       107892  ti66RjZWTp0          20   \n",
       "\n",
       "                                             caption  \\\n",
       "0  Rustling occurs, ducks quack and water splashe...   \n",
       "1  An audience gives applause as a man yells and ...   \n",
       "2       A man speaks over intermittent keyboard taps   \n",
       "3  Motor noise is followed by a horn honking and ...   \n",
       "4  A male speaks as metal clicks and a gun fires ...   \n",
       "\n",
       "                       audio  download_status  \n",
       "0   music_data_val\\97151.wav             True  \n",
       "1  music_data_val\\108945.wav             True  \n",
       "2  music_data_val\\107898.wav             True  \n",
       "3  music_data_val\\107893.wav             True  \n",
       "4  music_data_val\\107892.wav            False  "
      ]
     },
     "execution_count": 17,
     "metadata": {},
     "output_type": "execute_result"
    }
   ],
   "source": [
    "print(music_data.shape)\n",
    "music_data.head()"
   ]
  }
 ],
 "metadata": {
  "kernelspec": {
   "display_name": "Python 3",
   "language": "python",
   "name": "python3"
  },
  "language_info": {
   "codemirror_mode": {
    "name": "ipython",
    "version": 3
   },
   "file_extension": ".py",
   "mimetype": "text/x-python",
   "name": "python",
   "nbconvert_exporter": "python",
   "pygments_lexer": "ipython3",
   "version": "3.10.7"
  },
  "orig_nbformat": 4
 },
 "nbformat": 4,
 "nbformat_minor": 2
}
